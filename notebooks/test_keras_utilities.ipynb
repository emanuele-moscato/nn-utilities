{
 "cells": [
  {
   "cell_type": "markdown",
   "id": "f7b9422d-fd4b-4a01-9dbb-ad459040742f",
   "metadata": {},
   "source": [
    "# Test package"
   ]
  },
  {
   "cell_type": "code",
   "execution_count": null,
   "id": "93384e2d-4afe-4e02-97cc-a5d065149243",
   "metadata": {},
   "outputs": [],
   "source": [
    "import tensorflow as tf\n",
    "from tensorflow.keras import Sequential\n",
    "from tensorflow.keras.layers import Dense, Dropout\n",
    "import matplotlib.pyplot as plt\n",
    "import seaborn as sns\n",
    "from nn_utilities import keras_utilities, tfp_utilities\n",
    "\n",
    "sns.set_theme()"
   ]
  },
  {
   "cell_type": "markdown",
   "id": "8fc2ed57-9c66-47ed-8170-b8f4a406c062",
   "metadata": {},
   "source": [
    "Generate fake data for classification."
   ]
  },
  {
   "cell_type": "code",
   "execution_count": null,
   "id": "db6517bc-f356-4ae5-900f-681935418cc3",
   "metadata": {},
   "outputs": [],
   "source": [
    "n_samples = 2000\n",
    "\n",
    "x = tf.concat(\n",
    "    [\n",
    "        tf.random.normal(shape=(int(n_samples / 2), 1), mean=1., stddev=.5),\n",
    "        tf.random.normal(shape=(int(n_samples / 2), 1), mean=8., stddev=.5),\n",
    "    ],\n",
    "    axis=0\n",
    ")\n",
    "\n",
    "y = tf.concat(\n",
    "    [\n",
    "        tf.zeros(shape=(int(n_samples / 2))),\n",
    "        tf.ones(shape=(int(n_samples / 2)))\n",
    "    ],\n",
    "    axis=0\n",
    ")\n",
    "\n",
    "# Plot data.\n",
    "fig = plt.figure(figsize=(14, 6))\n",
    "\n",
    "sns.histplot(\n",
    "    x=x[:, 0].numpy(),\n",
    "    stat='density'\n",
    ")"
   ]
  },
  {
   "cell_type": "markdown",
   "id": "c6ef0c9d-3167-4044-b7ca-823e97db3a97",
   "metadata": {},
   "source": [
    "Create a classification model and train it."
   ]
  },
  {
   "cell_type": "code",
   "execution_count": null,
   "id": "94b9e79e-505d-47ed-8dea-11ca997c5792",
   "metadata": {},
   "outputs": [],
   "source": [
    "dropout_rate = 0.3\n",
    "\n",
    "model = Sequential([\n",
    "    Dense(units=128, activation='relu'),\n",
    "    Dropout(rate=dropout_rate),\n",
    "    Dense(units=64, activation='relu'),\n",
    "    Dropout(rate=dropout_rate),\n",
    "    Dense(units=32, activation='relu'),\n",
    "    Dropout(rate=dropout_rate),\n",
    "    Dense(units=16),\n",
    "    Dropout(rate=dropout_rate),\n",
    "    Dense(units=2, activation='softmax')\n",
    "])\n",
    "\n",
    "model.compile(\n",
    "    loss='sparse_categorical_crossentropy',\n",
    "    optimizer='sgd'\n",
    ")\n",
    "\n",
    "full_history = dict([])"
   ]
  },
  {
   "cell_type": "code",
   "execution_count": null,
   "id": "0f454ce7-19cc-407b-82de-9ea65f2991d5",
   "metadata": {},
   "outputs": [],
   "source": [
    "training_history = model.fit(\n",
    "    x=x,\n",
    "    y=y,\n",
    "    epochs=50,\n",
    "    verbose=0,\n",
    "    callbacks=[keras_utilities.NEpochsLogger(10)]\n",
    ")\n",
    "\n",
    "full_history = keras_utilities.append_to_full_history(training_history, full_history)\n",
    "\n",
    "keras_utilities.plot_history(full_history)"
   ]
  },
  {
   "cell_type": "markdown",
   "id": "e06ea788-1bd3-4913-b5f5-87554e545f4c",
   "metadata": {},
   "source": [
    "Make predictions."
   ]
  },
  {
   "cell_type": "code",
   "execution_count": null,
   "id": "cd416064-349d-4321-852b-9842cc5b15e9",
   "metadata": {},
   "outputs": [],
   "source": [
    "data_pred = tf.linspace(x.numpy().min(), x.numpy().max(), 500)[..., None]\n",
    "\n",
    "predicted_prob = model(data_pred)\n",
    "pred = tf.argmax(predicted_prob, axis=1)\n",
    "\n",
    "# Plot predictions.\n",
    "plt.figure(figsize=(14, 6))\n",
    "\n",
    "sns.scatterplot(\n",
    "    x=x[:, 0].numpy(),\n",
    "    y=y.numpy(),\n",
    "    color=sns.color_palette()[0],\n",
    "    label='Data'\n",
    ")\n",
    "\n",
    "sns.lineplot(\n",
    "    x=data_pred[:, 0].numpy(),\n",
    "    y=predicted_prob[:, 1].numpy(),\n",
    "    color=sns.color_palette()[1],\n",
    "    label='Predictions'\n",
    ")\n",
    "\n",
    "plt.title('Prediction with NN model')"
   ]
  },
  {
   "cell_type": "markdown",
   "id": "f1da47c3-0943-4eff-895f-457674002d72",
   "metadata": {},
   "source": [
    "Build the equivalent MC dropout model and make predictions with it."
   ]
  },
  {
   "cell_type": "code",
   "execution_count": null,
   "id": "f67c920c-1a76-4341-b38f-2acbae382b4d",
   "metadata": {},
   "outputs": [],
   "source": [
    "mc_dropout_model = keras_utilities.MCDropoutModel(original_model=model).build()"
   ]
  },
  {
   "cell_type": "code",
   "execution_count": null,
   "id": "37b2b4cd-dcdb-4029-b2c9-fbd555fa59e1",
   "metadata": {},
   "outputs": [],
   "source": [
    "data_pred = tf.linspace(x.numpy().min(), x.numpy().max(), 500)[..., None]\n",
    "\n",
    "predicted_prob = mc_dropout_model(data_pred)\n",
    "\n",
    "# Plot predictions.\n",
    "plt.figure(figsize=(14, 6))\n",
    "\n",
    "sns.scatterplot(\n",
    "    x=x[:, 0].numpy(),\n",
    "    y=y.numpy(),\n",
    "    color=sns.color_palette()[0],\n",
    "    label='Data'\n",
    ")\n",
    "\n",
    "sns.lineplot(\n",
    "    x=data_pred[:, 0].numpy(),\n",
    "    y=predicted_prob[:, 1].numpy(),\n",
    "    color=sns.color_palette()[1],\n",
    "    label='Predictions'\n",
    ")\n",
    "\n",
    "plt.title('Prediction with MC dropout model')"
   ]
  }
 ],
 "metadata": {
  "kernelspec": {
   "display_name": "Python 3 (ipykernel)",
   "language": "python",
   "name": "python3"
  },
  "language_info": {
   "codemirror_mode": {
    "name": "ipython",
    "version": 3
   },
   "file_extension": ".py",
   "mimetype": "text/x-python",
   "name": "python",
   "nbconvert_exporter": "python",
   "pygments_lexer": "ipython3",
   "version": "3.10.13"
  }
 },
 "nbformat": 4,
 "nbformat_minor": 5
}
